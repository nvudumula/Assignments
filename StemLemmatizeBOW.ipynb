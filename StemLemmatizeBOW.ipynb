{
  "nbformat": 4,
  "nbformat_minor": 0,
  "metadata": {
    "colab": {
      "provenance": [],
      "authorship_tag": "ABX9TyPTEnoA7H6n9uaeh0rqR+ie",
      "include_colab_link": true
    },
    "kernelspec": {
      "name": "python3",
      "display_name": "Python 3"
    },
    "language_info": {
      "name": "python"
    }
  },
  "cells": [
    {
      "cell_type": "markdown",
      "metadata": {
        "id": "view-in-github",
        "colab_type": "text"
      },
      "source": [
        "<a href=\"https://colab.research.google.com/github/nvudumula/Assignments/blob/master/StemLemmatizeBOW.ipynb\" target=\"_parent\"><img src=\"https://colab.research.google.com/assets/colab-badge.svg\" alt=\"Open In Colab\"/></a>"
      ]
    },
    {
      "cell_type": "code",
      "execution_count": null,
      "metadata": {
        "id": "78jHDkhDzKF8"
      },
      "outputs": [],
      "source": [
        "import nltk\n",
        "from nltk.corpus import stopwords\n",
        "from nltk.tokenize import word_tokenize, sent_tokenize\n",
        "nltk.download('stopwords')\n",
        "nltk.download('punkt')\n",
        "from nltk.stem import PorterStemmer\n",
        "from collections import defaultdict\n",
        "import math\n",
        "import string\n",
        "import re"
      ]
    },
    {
      "cell_type": "code",
      "source": [
        "paragraph = \"\"\"Sivas Province (Turkish: Sivas ili) is a province of Turkey. It is located in the eastern part of the Central Anatolia region of Turkey. Its area is 28,164 km2 (the second largest province after Konya),[2] and its population is 634,924 (2022).[1] Its adjacent provinces are Yozgat to the west, Kayseri to the southwest, Kahramanmaraş to the south, Malatya to the southeast, Erzincan to the east, Giresun to the northeast, and Ordu to the north. Its capital is Sivas.\n",
        "\n",
        "Most of Sivas Province has the typical continental climate of the Central Anatolian Region, in which summer months are hot and dry, while winter months are cold and snowy. However, the northern part of the province shows some features of the oceanic/humid subtropical Black Sea climate, while the eastern portion has influences of the Eastern Anatolian highland climate. This province is noted for its thermal springs.\"\"\"\n",
        "# converts paragraph sentences into words\n",
        "sentences = sent_tokenize(paragraph)\n",
        "stemmer = PorterStemmer()\n",
        "result = {}\n",
        "stems = {}\n",
        "for i in range(len(sentences)):\n",
        "    sentences[i] = sentences[i].lower()\n",
        "    sentences[i] = re.sub(r'\\d+', '', sentences[i])\n",
        "    sentences[i] = re.sub(r'[^\\w\\s]', '', sentences[i])\n",
        "for i in range(len(sentences)):\n",
        "    words = word_tokenize(sentences[i])\n",
        "    words = [stemmer.stem(word) for word in words if word not in set(stopwords.words('english'))]\n",
        "    #sentences[i] = ' '.join(words)\n",
        "    result[i] = ' '.join(words)\n",
        "    stems[i] = words\n",
        "print (result)\n",
        "print (stems)\n",
        "#words = stemmer.stem(sentences)"
      ],
      "metadata": {
        "id": "LZDA12TX0o-T"
      },
      "execution_count": null,
      "outputs": []
    },
    {
      "cell_type": "code",
      "source": [
        "# Let us do lemmatization\n",
        "nltk.download('wordnet')\n",
        "from nltk.stem import WordNetLemmatizer\n",
        "res_lemet = {}\n",
        "lemets = {}\n",
        "lemmatizer = WordNetLemmatizer()\n",
        "for i in range(len(sentences)):\n",
        "    words = word_tokenize(sentences[i])\n",
        "    words = [lemmatizer.lemmatize(word) for word in words if word not in set(stopwords.words('english'))]\n",
        "    #sentences[i] = ' '.join(words)\n",
        "    res_lemet[i] = ' '.join(words)\n",
        "    lemets[i] = words\n",
        "    #print (words)\n",
        "print (res_lemet)\n",
        "print (lemets)"
      ],
      "metadata": {
        "colab": {
          "base_uri": "https://localhost:8080/"
        },
        "id": "hDY_qI-E7aI8",
        "outputId": "ee0ad0d0-0106-400e-f217-1b914532daab"
      },
      "execution_count": 19,
      "outputs": [
        {
          "output_type": "stream",
          "name": "stderr",
          "text": [
            "[nltk_data] Downloading package wordnet to /root/nltk_data...\n"
          ]
        },
        {
          "output_type": "stream",
          "name": "stdout",
          "text": [
            "{0: 'siva province turkish siva ili province turkey', 1: 'located eastern part central anatolia region turkey', 2: 'area km second largest province konya population', 3: 'adjacent province yozgat west kayseri southwest kahramanmaraş south malatya southeast erzincan east giresun northeast ordu north', 4: 'capital siva', 5: 'siva province typical continental climate central anatolian region summer month hot dry winter month cold snowy', 6: 'however northern part province show feature oceanichumid subtropical black sea climate eastern portion influence eastern anatolian highland climate', 7: 'province noted thermal spring'}\n",
            "{0: ['siva', 'province', 'turkish', 'siva', 'ili', 'province', 'turkey'], 1: ['located', 'eastern', 'part', 'central', 'anatolia', 'region', 'turkey'], 2: ['area', 'km', 'second', 'largest', 'province', 'konya', 'population'], 3: ['adjacent', 'province', 'yozgat', 'west', 'kayseri', 'southwest', 'kahramanmaraş', 'south', 'malatya', 'southeast', 'erzincan', 'east', 'giresun', 'northeast', 'ordu', 'north'], 4: ['capital', 'siva'], 5: ['siva', 'province', 'typical', 'continental', 'climate', 'central', 'anatolian', 'region', 'summer', 'month', 'hot', 'dry', 'winter', 'month', 'cold', 'snowy'], 6: ['however', 'northern', 'part', 'province', 'show', 'feature', 'oceanichumid', 'subtropical', 'black', 'sea', 'climate', 'eastern', 'portion', 'influence', 'eastern', 'anatolian', 'highland', 'climate'], 7: ['province', 'noted', 'thermal', 'spring']}\n"
          ]
        }
      ]
    },
    {
      "cell_type": "code",
      "source": [
        "# let us do bagging now\n",
        "from sklearn.feature_extraction.text import CountVectorizer\n",
        "cv = CountVectorizer()\n",
        "#X = cv.fit_transform(sentences).toarray()\n",
        "print ('sent : ',type(sentences))\n",
        "X = cv.fit_transform((sentences))\n",
        "cv. vocabulary_\n",
        "#X =cv.fit_transform(result.values())\n",
        "#cv.vocabulary_"
      ],
      "metadata": {
        "colab": {
          "base_uri": "https://localhost:8080/"
        },
        "id": "r6oTcYEs8aay",
        "outputId": "8a107260-7b8d-44b8-eea8-bd3d5147b248"
      },
      "execution_count": 38,
      "outputs": [
        {
          "output_type": "stream",
          "name": "stdout",
          "text": [
            "sent :  <class 'list'>\n"
          ]
        },
        {
          "output_type": "execute_result",
          "data": {
            "text/plain": [
              "{'sivas': 55,\n",
              " 'province': 49,\n",
              " 'turkish': 69,\n",
              " 'ili': 24,\n",
              " 'is': 27,\n",
              " 'of': 44,\n",
              " 'turkey': 68,\n",
              " 'it': 28,\n",
              " 'located': 35,\n",
              " 'in': 25,\n",
              " 'the': 64,\n",
              " 'eastern': 15,\n",
              " 'part': 46,\n",
              " 'central': 9,\n",
              " 'anatolia': 2,\n",
              " 'region': 51,\n",
              " 'its': 29,\n",
              " 'area': 6,\n",
              " 'km': 32,\n",
              " 'second': 53,\n",
              " 'largest': 34,\n",
              " 'after': 1,\n",
              " 'konya': 33,\n",
              " 'and': 4,\n",
              " 'population': 47,\n",
              " 'adjacent': 0,\n",
              " 'provinces': 50,\n",
              " 'are': 5,\n",
              " 'yozgat': 75,\n",
              " 'to': 67,\n",
              " 'west': 71,\n",
              " 'kayseri': 31,\n",
              " 'southwest': 60,\n",
              " 'kahramanmaraş': 30,\n",
              " 'south': 58,\n",
              " 'malatya': 36,\n",
              " 'southeast': 59,\n",
              " 'erzincan': 16,\n",
              " 'east': 14,\n",
              " 'giresun': 19,\n",
              " 'northeast': 40,\n",
              " 'ordu': 45,\n",
              " 'north': 39,\n",
              " 'capital': 8,\n",
              " 'most': 38,\n",
              " 'has': 20,\n",
              " 'typical': 70,\n",
              " 'continental': 12,\n",
              " 'climate': 10,\n",
              " 'anatolian': 3,\n",
              " 'which': 72,\n",
              " 'summer': 63,\n",
              " 'months': 37,\n",
              " 'hot': 22,\n",
              " 'dry': 13,\n",
              " 'while': 73,\n",
              " 'winter': 74,\n",
              " 'cold': 11,\n",
              " 'snowy': 56,\n",
              " 'however': 23,\n",
              " 'northern': 41,\n",
              " 'shows': 54,\n",
              " 'some': 57,\n",
              " 'features': 17,\n",
              " 'oceanichumid': 43,\n",
              " 'subtropical': 62,\n",
              " 'black': 7,\n",
              " 'sea': 52,\n",
              " 'portion': 48,\n",
              " 'influences': 26,\n",
              " 'highland': 21,\n",
              " 'this': 66,\n",
              " 'noted': 42,\n",
              " 'for': 18,\n",
              " 'thermal': 65,\n",
              " 'springs': 61}"
            ]
          },
          "metadata": {},
          "execution_count": 38
        }
      ]
    },
    {
      "cell_type": "code",
      "source": [],
      "metadata": {
        "id": "HsW_LcWh2Lu2"
      },
      "execution_count": null,
      "outputs": []
    }
  ]
}